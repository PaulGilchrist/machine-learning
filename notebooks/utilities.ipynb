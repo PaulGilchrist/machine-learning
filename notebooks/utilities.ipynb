{
 "cells": [
  {
   "cell_type": "code",
   "execution_count": null,
   "metadata": {},
   "outputs": [],
   "source": [
    "# Checks availability of GPU selecting it if available, and comparing its performacne vs CPU\n",
    "# CPU usually out performs on smaller data size and GPU on larger data size due to data copy time vs usage time\n",
    "import torch\n",
    "import timeit\n",
    "\n",
    "data_size = 100\n",
    "iterations = 100\n",
    "a_cpu = torch.rand(data_size, device='cpu')\n",
    "b_cpu = torch.rand((data_size, data_size), device='cpu')\n",
    "print('cpu', timeit.timeit(lambda: a_cpu @ b_cpu, number=iterations))\n",
    "if torch.cuda.is_available():\n",
    "    a_gpu = torch.rand(data_size, device='cuda')\n",
    "    b_gpu = torch.rand((data_size, data_size), device='cuda')\n",
    "    print('cuda', timeit.timeit(lambda: a_gpu @ b_gpu, number=iterations))\n",
    "if torch.backends.mps.is_available():\n",
    "    a_gpu = torch.rand(data_size, device='mps')\n",
    "    b_gpu = torch.rand((data_size, data_size), device='mps')\n",
    "    print('cuda', timeit.timeit(lambda: a_gpu @ b_gpu, number=iterations))\n",
    "\n",
    "# device = \"mps\" if torch.backends.mps.is_available() else \"cuda\" if torch.cuda.is_available() else \"cpu\""
   ]
  },
  {
   "cell_type": "code",
   "execution_count": null,
   "metadata": {},
   "outputs": [],
   "source": [
    "# Example of timing work duration\n",
    "import time\n",
    "\n",
    "def epoch_time(start_time, end_time):\n",
    "    elapsed_time = end_time - start_time\n",
    "    elapsed_mins = int(elapsed_time / 60)\n",
    "    elapsed_secs = int(elapsed_time - (elapsed_mins * 60))\n",
    "    return elapsed_mins, elapsed_secs\n",
    "\n",
    "start_time = time.time()\n",
    "# do work here\n",
    "end_time = time.time()\n",
    "epoch_mins, epoch_secs = epoch_time(start_time, end_time)"
   ]
  }
 ],
 "metadata": {
  "kernelspec": {
   "display_name": "base",
   "language": "python",
   "name": "python3"
  },
  "language_info": {
   "name": "python",
   "version": "3.10.8"
  },
  "orig_nbformat": 4,
  "vscode": {
   "interpreter": {
    "hash": "411f3f150035de440886c1aa5152b7a0afb2ab2d66c6bd7924aa8973985b1541"
   }
  }
 },
 "nbformat": 4,
 "nbformat_minor": 2
}
