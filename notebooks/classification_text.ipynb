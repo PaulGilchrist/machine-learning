{
 "cells": [
  {
   "attachments": {},
   "cell_type": "markdown",
   "metadata": {},
   "source": [
    "# Classification of Text Using Single Input\n",
    "\n",
    "Takes a CSV or Panda Dataframe with 'Name' and 'Gender', trains a model to predict Gender based on Name using a Recurrent Neural Network"
   ]
  },
  {
   "cell_type": "code",
   "execution_count": 1,
   "metadata": {},
   "outputs": [],
   "source": [
    "# %pip install matplotlib\n",
    "# %pip install pandas\n",
    "# %pip install sklearn\n",
    "# %pip install torch\n",
    "\n",
    "from collections import Counter\n",
    "import matplotlib.pyplot as plt\n",
    "import pandas as pd\n",
    "import random\n",
    "from sklearn import preprocessing\n",
    "from sklearn.model_selection import train_test_split\n",
    "import torch\n",
    "import torch.nn as nn\n",
    "import torch.optim as optim\n",
    "\n",
    "# We are defaulting to CPU, but you may want to compare CPU vs GPU performance\n",
    "# device = \"mps\" if torch.backends.mps.is_available() else \"cuda\" if torch.cuda.is_available() else \"cpu\"\n",
    "device = \"cpu\" # Use cpu since this dataset is too small to take advantage of the GPU"
   ]
  },
  {
   "cell_type": "code",
   "execution_count": 2,
   "metadata": {},
   "outputs": [
    {
     "data": {
      "text/html": [
       "<div>\n",
       "<style scoped>\n",
       "    .dataframe tbody tr th:only-of-type {\n",
       "        vertical-align: middle;\n",
       "    }\n",
       "\n",
       "    .dataframe tbody tr th {\n",
       "        vertical-align: top;\n",
       "    }\n",
       "\n",
       "    .dataframe thead th {\n",
       "        text-align: right;\n",
       "    }\n",
       "</style>\n",
       "<table border=\"1\" class=\"dataframe\">\n",
       "  <thead>\n",
       "    <tr style=\"text-align: right;\">\n",
       "      <th></th>\n",
       "      <th>Name</th>\n",
       "      <th>Gender</th>\n",
       "    </tr>\n",
       "  </thead>\n",
       "  <tbody>\n",
       "    <tr>\n",
       "      <th>0</th>\n",
       "      <td>Aamir</td>\n",
       "      <td>Male</td>\n",
       "    </tr>\n",
       "    <tr>\n",
       "      <th>1</th>\n",
       "      <td>Aaron</td>\n",
       "      <td>Female</td>\n",
       "    </tr>\n",
       "    <tr>\n",
       "      <th>2</th>\n",
       "      <td>Aaron</td>\n",
       "      <td>Male</td>\n",
       "    </tr>\n",
       "    <tr>\n",
       "      <th>3</th>\n",
       "      <td>Abagael</td>\n",
       "      <td>Female</td>\n",
       "    </tr>\n",
       "    <tr>\n",
       "      <th>4</th>\n",
       "      <td>Abagail</td>\n",
       "      <td>Female</td>\n",
       "    </tr>\n",
       "  </tbody>\n",
       "</table>\n",
       "</div>"
      ],
      "text/plain": [
       "      Name  Gender\n",
       "0    Aamir    Male\n",
       "1    Aaron  Female\n",
       "2    Aaron    Male\n",
       "3  Abagael  Female\n",
       "4  Abagail  Female"
      ]
     },
     "execution_count": 2,
     "metadata": {},
     "output_type": "execute_result"
    }
   ],
   "source": [
    "# Get training data\n",
    "df = pd.read_csv('../inputs/names.csv')\n",
    "df.head()"
   ]
  },
  {
   "cell_type": "code",
   "execution_count": 3,
   "metadata": {},
   "outputs": [
    {
     "name": "stdout",
     "output_type": "stream",
     "text": [
      "Total names (10131) vs unique names (9543)\n"
     ]
    }
   ],
   "source": [
    "# Some names are both male and female\n",
    "print('Total names (%.0f) vs unique names (%.0f)' %(len(df), len(df['Name'].unique())))\n",
    "# Drop duplicates (a name that is both male and female does not need to be predicted as it will always be correct)\n",
    "df = df.drop_duplicates(subset=['Name'], keep=random.choice(['first', 'last']))"
   ]
  },
  {
   "cell_type": "code",
   "execution_count": 4,
   "metadata": {},
   "outputs": [
    {
     "data": {
      "text/html": [
       "<div>\n",
       "<style scoped>\n",
       "    .dataframe tbody tr th:only-of-type {\n",
       "        vertical-align: middle;\n",
       "    }\n",
       "\n",
       "    .dataframe tbody tr th {\n",
       "        vertical-align: top;\n",
       "    }\n",
       "\n",
       "    .dataframe thead th {\n",
       "        text-align: right;\n",
       "    }\n",
       "</style>\n",
       "<table border=\"1\" class=\"dataframe\">\n",
       "  <thead>\n",
       "    <tr style=\"text-align: right;\">\n",
       "      <th></th>\n",
       "      <th>Name</th>\n",
       "      <th>Gender</th>\n",
       "    </tr>\n",
       "  </thead>\n",
       "  <tbody>\n",
       "    <tr>\n",
       "      <th>0</th>\n",
       "      <td>aamir</td>\n",
       "      <td>1</td>\n",
       "    </tr>\n",
       "    <tr>\n",
       "      <th>2</th>\n",
       "      <td>aaron</td>\n",
       "      <td>1</td>\n",
       "    </tr>\n",
       "    <tr>\n",
       "      <th>3</th>\n",
       "      <td>abagael</td>\n",
       "      <td>0</td>\n",
       "    </tr>\n",
       "    <tr>\n",
       "      <th>4</th>\n",
       "      <td>abagail</td>\n",
       "      <td>0</td>\n",
       "    </tr>\n",
       "    <tr>\n",
       "      <th>5</th>\n",
       "      <td>abbe</td>\n",
       "      <td>0</td>\n",
       "    </tr>\n",
       "  </tbody>\n",
       "</table>\n",
       "</div>"
      ],
      "text/plain": [
       "      Name  Gender\n",
       "0    aamir       1\n",
       "2    aaron       1\n",
       "3  abagael       0\n",
       "4  abagail       0\n",
       "5     abbe       0"
      ]
     },
     "execution_count": 4,
     "metadata": {},
     "output_type": "execute_result"
    }
   ],
   "source": [
    "# Change names to lower case\n",
    "df['Name'] = df['Name'].str.lower()\n",
    "# Change gender enum to 0 or 1\n",
    "df['Gender'] = preprocessing.LabelEncoder().fit_transform(df['Gender'])\n",
    "\n",
    "df.head()"
   ]
  },
  {
   "cell_type": "code",
   "execution_count": 5,
   "metadata": {},
   "outputs": [
    {
     "data": {
      "text/html": [
       "<div>\n",
       "<style scoped>\n",
       "    .dataframe tbody tr th:only-of-type {\n",
       "        vertical-align: middle;\n",
       "    }\n",
       "\n",
       "    .dataframe tbody tr th {\n",
       "        vertical-align: top;\n",
       "    }\n",
       "\n",
       "    .dataframe thead th {\n",
       "        text-align: right;\n",
       "    }\n",
       "</style>\n",
       "<table border=\"1\" class=\"dataframe\">\n",
       "  <thead>\n",
       "    <tr style=\"text-align: right;\">\n",
       "      <th></th>\n",
       "      <th>Name</th>\n",
       "      <th>Gender</th>\n",
       "    </tr>\n",
       "  </thead>\n",
       "  <tbody>\n",
       "    <tr>\n",
       "      <th>1270</th>\n",
       "      <td>[7, 14, 10, 1]</td>\n",
       "      <td>0</td>\n",
       "    </tr>\n",
       "    <tr>\n",
       "      <th>1246</th>\n",
       "      <td>[7, 4, 14, 6, 16, 3, 10, 13, 1]</td>\n",
       "      <td>0</td>\n",
       "    </tr>\n",
       "    <tr>\n",
       "      <th>8109</th>\n",
       "      <td>[4, 5, 22]</td>\n",
       "      <td>0</td>\n",
       "    </tr>\n",
       "    <tr>\n",
       "      <th>7024</th>\n",
       "      <td>[6, 9, 4, 12]</td>\n",
       "      <td>0</td>\n",
       "    </tr>\n",
       "    <tr>\n",
       "      <th>4210</th>\n",
       "      <td>[3, 6, 9, 10, 10]</td>\n",
       "      <td>0</td>\n",
       "    </tr>\n",
       "  </tbody>\n",
       "</table>\n",
       "</div>"
      ],
      "text/plain": [
       "                                 Name  Gender\n",
       "1270                   [7, 14, 10, 1]       0\n",
       "1246  [7, 4, 14, 6, 16, 3, 10, 13, 1]       0\n",
       "8109                       [4, 5, 22]       0\n",
       "7024                    [6, 9, 4, 12]       0\n",
       "4210                [3, 6, 9, 10, 10]       0"
      ]
     },
     "execution_count": 5,
     "metadata": {},
     "output_type": "execute_result"
    }
   ],
   "source": [
    "# Create a counter to keep track of unique characters in the names\n",
    "char_counter = Counter(''.join(df['Name']))\n",
    "# Create a dictionary to map each character to a unique integer\n",
    "char_to_int = {char: i+1 for i, char in enumerate(char_counter.keys())}\n",
    "# Add a special character for padding\n",
    "char_to_int['<pad>'] = 0\n",
    "# Create a dictionary to map each integer back to its corresponding character\n",
    "int_to_char = {i: char for char, i in char_to_int.items()}\n",
    "# Convert each name to a list of integers, using the character-to-integer mapping\n",
    "df['Name'] = df['Name'].apply(lambda name: [char_to_int[char] for char in name])\n",
    "# Split the data into training and testing sets\n",
    "train_data, test_data = train_test_split(df, test_size=0.2)\n",
    "\n",
    "train_data.head()"
   ]
  },
  {
   "cell_type": "code",
   "execution_count": 6,
   "metadata": {},
   "outputs": [
    {
     "name": "stdout",
     "output_type": "stream",
     "text": [
      "Epoch 1 (5%), Loss: 2.555\n",
      "Epoch 2 (10%), Loss: 2.449\n",
      "Epoch 3 (15%), Loss: 2.366\n",
      "Epoch 4 (20%), Loss: 2.308\n",
      "Epoch 5 (25%), Loss: 2.257\n",
      "Epoch 6 (30%), Loss: 2.213\n",
      "Epoch 7 (35%), Loss: 2.179\n",
      "Epoch 8 (40%), Loss: 2.145\n",
      "Epoch 9 (45%), Loss: 2.116\n",
      "Epoch 10 (50%), Loss: 2.089\n",
      "Epoch 11 (55%), Loss: 2.065\n",
      "Epoch 12 (60%), Loss: 2.046\n",
      "Epoch 13 (65%), Loss: 2.024\n",
      "Epoch 14 (70%), Loss: 2.008\n",
      "Epoch 15 (75%), Loss: 1.991\n",
      "Epoch 16 (80%), Loss: 1.972\n",
      "Epoch 17 (85%), Loss: 1.959\n",
      "Epoch 18 (90%), Loss: 1.949\n",
      "Epoch 19 (95%), Loss: 1.935\n",
      "Epoch 20 (100%), Loss: 1.923\n"
     ]
    },
    {
     "data": {
      "text/plain": [
       "[<matplotlib.lines.Line2D at 0x16d452d40>]"
      ]
     },
     "execution_count": 6,
     "metadata": {},
     "output_type": "execute_result"
    },
    {
     "data": {
      "image/png": "[encoded data removed]",
      "text/plain": [
       "<Figure size 1200x800 with 1 Axes>"
      ]
     },
     "metadata": {},
     "output_type": "display_data"
    }
   ],
   "source": [
    "# Define the RNN model\n",
    "class RNN(nn.Module):\n",
    "    def __init__(self, input_size, hidden_size, output_size):\n",
    "        super(RNN, self).__init__()\n",
    "        self.hidden_size = hidden_size\n",
    "        self.embedding = nn.Embedding(input_size, hidden_size)\n",
    "        self.rnn = nn.RNN(hidden_size, hidden_size)\n",
    "        self.fc = nn.Linear(hidden_size, output_size)\n",
    "\n",
    "    def forward(self, input, hidden):\n",
    "        embedded = self.embedding(input).view(1, 1, -1)\n",
    "        output, hidden = self.rnn(embedded, hidden)\n",
    "        output = self.fc(output[0])\n",
    "        return output, hidden\n",
    "\n",
    "    def init_hidden(self):\n",
    "        return torch.zeros(1, 1, self.hidden_size)\n",
    "\n",
    "# Initialize the model, optimizer, and loss function\n",
    "model = RNN(len(char_to_int), 128, 2).to(device)\n",
    "optimizer = optim.Adam(model.parameters(), lr=0.001)\n",
    "criterion = nn.CrossEntropyLoss()\n",
    "\n",
    "# Define the model training function\n",
    "def train(model, optimizer, criterion, train_data, num_epochs):\n",
    "    total_loss = 0\n",
    "    plot_losses = []\n",
    "    model.train() # Put the model in \"training mode\", which turns on dropout and batch normalization\n",
    "    for epoch in range(1, num_epochs+1):\n",
    "        iter_loss = 0\n",
    "        for iter, row in train_data.iterrows():\n",
    "            name = row['Name']\n",
    "            gender = row['Gender']\n",
    "            hidden = model.init_hidden().to(device)\n",
    "            for char in name:\n",
    "                input = torch.tensor([[char]]).to(device)\n",
    "                output, hidden = model(input, hidden)\n",
    "            loss = criterion(output, torch.tensor([gender]).to(device))\n",
    "            iter_loss += loss.item()\n",
    "            optimizer.zero_grad()\n",
    "            loss.backward()\n",
    "            optimizer.step()\n",
    "        total_loss += iter_loss\n",
    "        plot_losses.append(total_loss/(iter*epoch))\n",
    "        percentComplete = epoch/num_epochs*100\n",
    "        print(f'Epoch {epoch} ({percentComplete:.0f}%), Loss: {total_loss/(iter*epoch):.3f}')\n",
    "    return plot_losses\n",
    "\n",
    "# Train the model\n",
    "plot_losses = train(model, optimizer, criterion, train_data, num_epochs=20)\n",
    "fig, ax = plt.subplots(figsize=(12, 8))\n",
    "plt.title(\"Convergence\")\n",
    "plt.xlabel(\"Epochs\")\n",
    "plt.ylabel(\"Loss\")\n",
    "plt.plot(plot_losses)"
   ]
  },
  {
   "cell_type": "code",
   "execution_count": 7,
   "metadata": {},
   "outputs": [
    {
     "name": "stdout",
     "output_type": "stream",
     "text": [
      "Test Accuracy: 83.4%\n"
     ]
    }
   ],
   "source": [
    "# Test the model\n",
    "def test(model, test_data, int_to_char):\n",
    "    correct = 0\n",
    "    model.eval() # Put the model in \"evaluation mode\", this turns off dropout and batch normalization.\n",
    "    for _, row in test_data.iterrows():\n",
    "        x = row['Name']\n",
    "        y = row['Gender']\n",
    "        hidden = model.init_hidden().to(device)\n",
    "        for char in x:\n",
    "            input = torch.tensor([[char]]).to(device)\n",
    "            output, hidden = model(input, hidden)\n",
    "        y_predicted = torch.argmax(output).item()\n",
    "        if y_predicted == y:\n",
    "            correct += 1\n",
    "    accuracy = correct / len(test_data) * 100\n",
    "    print(f\"Test Accuracy: {accuracy:>0.1f}%\")\n",
    "\n",
    "test(model, test_data, int_to_char)"
   ]
  }
 ],
 "metadata": {
  "kernelspec": {
   "display_name": "base",
   "language": "python",
   "name": "python3"
  },
  "language_info": {
   "codemirror_mode": {
    "name": "ipython",
    "version": 3
   },
   "file_extension": ".py",
   "mimetype": "text/x-python",
   "name": "python",
   "nbconvert_exporter": "python",
   "pygments_lexer": "ipython3",
   "version": "3.10.8"
  },
  "orig_nbformat": 4,
  "vscode": {
   "interpreter": {
    "hash": "411f3f150035de440886c1aa5152b7a0afb2ab2d66c6bd7924aa8973985b1541"
   }
  }
 },
 "nbformat": 4,
 "nbformat_minor": 2
}
